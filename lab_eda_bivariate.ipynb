{
 "cells": [
  {
   "cell_type": "markdown",
   "metadata": {},
   "source": [
    "## Read/Load and Import "
   ]
  },
  {
   "cell_type": "code",
   "execution_count": null,
   "metadata": {},
   "outputs": [],
   "source": [
    "import pandas as pd\n",
    "import matplotlib.pyplot as plt\n",
    "import seaborn as sns\n",
    "import numpy as np"
   ]
  },
  {
   "cell_type": "code",
   "execution_count": null,
   "metadata": {},
   "outputs": [],
   "source": [
    "df_amz_ppd = pd.read_csv('./amz_uk_price_prediction_dataset.csv')"
   ]
  },
  {
   "cell_type": "code",
   "execution_count": null,
   "metadata": {},
   "outputs": [],
   "source": [
    "df_amz_ppd.head()"
   ]
  },
  {
   "cell_type": "code",
   "execution_count": null,
   "metadata": {},
   "outputs": [],
   "source": [
    "df_amz_ppd[\"isBestSeller\"].astype(bool)"
   ]
  },
  {
   "cell_type": "code",
   "execution_count": null,
   "metadata": {},
   "outputs": [],
   "source": [
    "df_amz_ppd.select_dtypes(\"number\").columns"
   ]
  },
  {
   "cell_type": "code",
   "execution_count": null,
   "metadata": {},
   "outputs": [],
   "source": [
    "df_amz_ppd.select_dtypes(\"number\").nunique().sort_values(ascending=False)"
   ]
  },
  {
   "cell_type": "code",
   "execution_count": null,
   "metadata": {},
   "outputs": [],
   "source": [
    "df_numerical = df_amz_ppd.select_dtypes(\"number\")\n",
    "display(df_numerical.head())"
   ]
  },
  {
   "cell_type": "markdown",
   "metadata": {},
   "source": [
    "## Part 1: Analyzing Best-Seller Trends Across Product Categories\n",
    "\n",
    "Objective: Understand the relationship between product categories and their best-seller status.\n",
    "\n",
    "Crosstab Analysis:\n",
    "\n",
    "Create a crosstab between the product category and the isBestSeller status.\n",
    "\n",
    "Are there categories where being a best-seller is more prevalent?\n",
    "\n",
    "Hint: one option is to calculate the proportion of best-sellers for each category and then sort the categories based on this proportion in descending order.\n",
    "\n",
    "Statistical Tests:\n",
    "\n",
    "Conduct a Chi-square test to determine if the best-seller distribution is independent of the product category.\n",
    "Compute Cramér's V to understand the strength of association between best-seller status and category.\n",
    "Visualizations:\n",
    "\n",
    "Visualize the relationship between product categories and the best-seller status using a stacked bar chart."
   ]
  },
  {
   "cell_type": "code",
   "execution_count": null,
   "metadata": {},
   "outputs": [],
   "source": [
    "crosstab = pd.crosstab(df_amz_ppd[\"category\"], df_amz_ppd[\"isBestSeller\"])\n",
    "\n",
    "#sorted by Bestseller = True\n",
    "crosstab_sort = crosstab.sort_values(by=True, ascending=False)\n",
    "crosstab_sort.head(20)"
   ]
  },
  {
   "cell_type": "code",
   "execution_count": null,
   "metadata": {},
   "outputs": [],
   "source": [
    "crosstab_sort[\"rel_freq\"] = crosstab_sort[True] / (crosstab_sort[False] + 1e-9) * 100\n",
    "\n",
    "#sorted by relative true/false bestseller\n",
    "crosstab_sort_by_rel_freq = crosstab_sort.sort_values(by=\"rel_freq\", ascending=False)\n",
    "display(crosstab_sort_by_rel_freq.head(20))"
   ]
  },
  {
   "cell_type": "markdown",
   "metadata": {},
   "source": [
    "Yes, in terms of total count the top 5 is quite different as in terms of \n",
    "\n",
    "TOP / onl total count of true\n",
    "- Grocery\t                             9008\t    556\n",
    "- Health & Personal Care\t             9017\t    552\n",
    "- Baby\t                                 14709\t    341\n",
    "- Sports & Outdoors\t                     835935\t    330\n",
    "- Power & Hand Tools\t                 8353\t    306\n",
    "\n",
    "\n",
    "TOP5 /in realtion to false in there own category\n",
    "- Grocery\t                            9008 /  556 /   6.172291\n",
    "- Smart Home Security & Lighting\t    98   /    6 /   6.122449\n",
    "- Health & Personal Care\t            9017 /  552 /   6.121770\n",
    "- Mobile Phone Accessories  \t        248  /   11 /   4.435484\n",
    "- Power & Hand Tools\t                8353 /  306 /\t3.663354"
   ]
  },
  {
   "cell_type": "code",
   "execution_count": null,
   "metadata": {},
   "outputs": [],
   "source": [
    "from scipy.stats import chi2_contingency\n",
    "\n",
    "chi2_contingency(crosstab)[1]"
   ]
  },
  {
   "cell_type": "code",
   "execution_count": null,
   "metadata": {},
   "outputs": [],
   "source": [
    "from scipy.stats.contingency import association\n",
    "\n",
    "association(crosstab, method = \"cramer\")"
   ]
  },
  {
   "cell_type": "code",
   "execution_count": null,
   "metadata": {},
   "outputs": [],
   "source": [
    "crosstab.head(20).plot(kind=\"bar\", stacked=True)\n",
    "\n",
    "plt.show()"
   ]
  },
  {
   "cell_type": "markdown",
   "metadata": {},
   "source": [
    "## Part 2: Exploring Product Prices and Ratings Across Categories and Brands\n",
    "\n",
    "Objective: Investigate how different product categories influence product prices.\n",
    "\n",
    "Preliminary Step: Remove outliers in product prices.\n",
    "\n",
    "For this purpose, we can use the IQR (Interquartile Range) method. Products priced below the first quartile minus 1.5 times the IQR or above the third quartile plus 1.5 times the IQR will be considered outliers and removed from the dataset. The next steps will be done with the dataframe without outliers.\n",
    "\n",
    "Hint: you can check the last Check For Understanding at the end of the lesson EDA Bivariate Analysis for a hint on how to do this.\n",
    "\n",
    "Violin Plots:\n",
    "\n",
    "Use a violin plot to visualize the distribution of price across different product categories. Filter out the top 20 categories based on count for better visualization.\n",
    "Which product category tends to have the highest median price? Don't filter here by top categories.\n",
    "\n",
    "Bar Charts:\n",
    "\n",
    "Create a bar chart comparing the average price of products for the top 10 product categories (based on count).\n",
    "Which product category commands the highest average price? Don't filter here by top categories.\n",
    "\n",
    "Box Plots:\n",
    "\n",
    "Visualize the distribution of product ratings based on their category using side-by-side box plots. Filter out the top 10 categories based on count for better visualization.\n",
    "Which category tends to receive the highest median rating from customers? Don't filter here by top categories.\n"
   ]
  },
  {
   "cell_type": "code",
   "execution_count": null,
   "metadata": {},
   "outputs": [],
   "source": [
    "df_amz_ppd"
   ]
  },
  {
   "cell_type": "code",
   "execution_count": null,
   "metadata": {},
   "outputs": [],
   "source": [
    "def tukeys_test_outliers_and_clean(df_amz_ppd, price):\n",
    "    Q1 = df_amz_ppd['price'].quantile(0.25)\n",
    "    Q3 = df_amz_ppd['price'].quantile(0.75)\n",
    "    IQR = Q3 - Q1\n",
    "\n",
    "    # define bounds for the outliers\n",
    "    lower_bound = Q1 - 1.5 * IQR\n",
    "    upper_bound = Q3 + 1.5 * IQR\n",
    "\n",
    "    # identify outliers\n",
    "    outliers = df_amz_ppd[(df_amz_ppd['price'] < lower_bound) | (df_amz_ppd['price'] > upper_bound)]\n",
    "\n",
    "    # create a cleaned DataFrame without outliers\n",
    "    cleaned_df = df_amz_ppd[(df_amz_ppd['price'] >= lower_bound) & (df_amz_ppd['price'] <= upper_bound)]\n",
    "\n",
    "    return outliers, cleaned_df\n",
    "\n",
    "#function using\n",
    "outliers, cleaned_df = tukeys_test_outliers_and_clean(df_amz_ppd, 'price')\n",
    "\n",
    "# show outlieres\n",
    "print(\"Identifizierte Ausreißer:\")\n",
    "print(outliers)\n",
    "\n",
    "# new, cleanded df without outlieres for violin/boxplot\n",
    "print(\"DataFrame ohne Ausreißer:\")\n",
    "print(cleaned_df)\n"
   ]
  },
  {
   "cell_type": "code",
   "execution_count": null,
   "metadata": {},
   "outputs": [],
   "source": [
    "# top20 cat by value count // filter\n",
    "top20_categories = cleaned_df['category'].value_counts().head(20).index\n",
    "top20_categories"
   ]
  },
  {
   "cell_type": "code",
   "execution_count": null,
   "metadata": {},
   "outputs": [],
   "source": [
    "# df with all products in the cat of top20\n",
    "filtered20_df = cleaned_df[cleaned_df['category'].isin(top20_categories)]\n",
    "filtered20_df"
   ]
  },
  {
   "cell_type": "code",
   "execution_count": null,
   "metadata": {},
   "outputs": [],
   "source": [
    "# df only with category & price\n",
    "result20_df = filtered20_df[['category', 'price']]\n",
    "result20_df"
   ]
  },
  {
   "cell_type": "code",
   "execution_count": null,
   "metadata": {},
   "outputs": [],
   "source": [
    "#violinplot for top20 categories\n",
    "sns.violinplot(data=result20_df, x=\"category\", y=\"price\", hue=\"category\", palette=\"coolwarm\", legend=False)\n",
    "plt.title(\"top20 categories by price\", fontsize=14)\n",
    "plt.xticks(rotation=90)\n",
    "plt.show()"
   ]
  },
  {
   "cell_type": "markdown",
   "metadata": {},
   "source": [
    "- Out of the top20 categories by count, the categroy \"men\" has the highest median, followed by fragrances and sports/outdoor"
   ]
  },
  {
   "cell_type": "code",
   "execution_count": null,
   "metadata": {},
   "outputs": [],
   "source": [
    "top10_categories = cleaned_df['category'].value_counts().head(10).index\n",
    "top10_categories\n",
    "# df with all products in the cat of top20\n",
    "filtered10_df = cleaned_df[cleaned_df['category'].isin(top10_categories)]\n",
    "filtered10_df"
   ]
  },
  {
   "cell_type": "code",
   "execution_count": null,
   "metadata": {},
   "outputs": [],
   "source": [
    "result10_df = filtered10_df[['category', 'price']]\n",
    "result10_df"
   ]
  },
  {
   "cell_type": "code",
   "execution_count": null,
   "metadata": {},
   "outputs": [],
   "source": [
    "#barplot for top10 categories\n",
    "\n",
    "sns.barplot(data = result10_df, x=\"category\", y=\"price\", palette = \"Set3\", estimator= \"mean\")\n",
    "plt.title(\"top10 categories by mean price\", fontsize=14)\n",
    "plt.xticks(rotation=90)\n",
    "plt.show()"
   ]
  },
  {
   "cell_type": "markdown",
   "metadata": {},
   "source": [
    "- Out of the top10 categories by count, the categroy \"sports/outdoor\" has the highest average price, followed by birtday gifts and handmade gifts"
   ]
  },
  {
   "cell_type": "code",
   "execution_count": null,
   "metadata": {},
   "outputs": [],
   "source": [
    "result10_star_df = filtered10_df[['category', 'stars']]\n",
    "result10_star_df"
   ]
  },
  {
   "cell_type": "code",
   "execution_count": null,
   "metadata": {},
   "outputs": [],
   "source": [
    "#boxplot for top10 by review/stars\n",
    "sns.boxplot(data = result10_star_df, x=\"category\", y=\"stars\", hue=\"category\", palette = \"coolwarm\", legend=False)\n",
    "plt.title(\"top10 categories by stars per review\", fontsize=14)\n",
    "plt.xticks(rotation=90)\n",
    "plt.show()"
   ]
  },
  {
   "cell_type": "markdown",
   "metadata": {},
   "source": [
    "- Out of the top10 categories by count, 3 categories have pretty much the same median (visually checked) - skin care, bath & body, beauty"
   ]
  },
  {
   "cell_type": "code",
   "execution_count": null,
   "metadata": {},
   "outputs": [],
   "source": [
    "# check on df to vizz\n",
    "\n",
    "cat_pirc = filtered20_df.groupby(\"category\").agg({\"price\":[\"mean\", \"median\", \"std\", \"count\"]}).sort_values(by='category')\n",
    "cat_pirc.columns = [\"_\".join(tup) for tup in cat_pirc.columns]\n",
    "cat_pirc.reset_index()"
   ]
  },
  {
   "cell_type": "markdown",
   "metadata": {},
   "source": [
    "## Part 3: Investigating the Interplay Between Product Prices and Ratings\n",
    "\n",
    "Objective: Analyze how product ratings (stars) correlate with product prices.\n",
    "\n",
    "Correlation Coefficients:\n",
    "\n",
    "Calculate the correlation coefficient between price and stars.\n",
    "Is there a significant correlation between product price and its rating?\n",
    "\n",
    "Visualizations:\n",
    "\n",
    "Use a scatter plot to visualize the relationship between product rating and price. What patterns can you observe?\n",
    "Use a correlation heatmap to visualize correlations between all numerical variables.\n",
    "Examine if product prices typically follow a normal distribution using a QQ plot.\n"
   ]
  },
  {
   "cell_type": "code",
   "execution_count": null,
   "metadata": {},
   "outputs": [],
   "source": [
    "pearson_corr = df_numerical[\"price\"].corr(df_amz_ppd[\"stars\"], method = \"pearson\")\n",
    "print(pearson_corr)"
   ]
  },
  {
   "cell_type": "code",
   "execution_count": null,
   "metadata": {},
   "outputs": [],
   "source": [
    "spearman_corr = df_numerical[\"price\"].corr(df_amz_ppd[\"stars\"], method = \"spearman\")\n",
    "print(spearman_corr)"
   ]
  },
  {
   "cell_type": "code",
   "execution_count": null,
   "metadata": {},
   "outputs": [],
   "source": [
    "sns.scatterplot(data = df_numerical, x = \"price\", y=\"stars\")\n",
    "\n",
    "plt.title(\"correlation between price an rating\", fontsize=14)\n",
    "plt.xticks(rotation=90)\n",
    "plt.show()"
   ]
  },
  {
   "cell_type": "code",
   "execution_count": null,
   "metadata": {},
   "outputs": [],
   "source": [
    "corr_matrix = df_numerical.corr()\n",
    "\n",
    "plt.figure(figsize = (7,5))\n",
    "\n",
    "sns.heatmap(corr_matrix, annot = True, cmap = \"coolwarm\")\n",
    "plt.show()"
   ]
  },
  {
   "cell_type": "code",
   "execution_count": null,
   "metadata": {},
   "outputs": [],
   "source": [
    "import statsmodels.api as sm\n",
    "\n",
    "sm.qqplot(cleaned_df[\"price\"], line = \"s\")\n",
    "plt.show()"
   ]
  }
 ],
 "metadata": {
  "kernelspec": {
   "display_name": "base",
   "language": "python",
   "name": "python3"
  },
  "language_info": {
   "codemirror_mode": {
    "name": "ipython",
    "version": 3
   },
   "file_extension": ".py",
   "mimetype": "text/x-python",
   "name": "python",
   "nbconvert_exporter": "python",
   "pygments_lexer": "ipython3",
   "version": "3.12.7"
  }
 },
 "nbformat": 4,
 "nbformat_minor": 2
}
